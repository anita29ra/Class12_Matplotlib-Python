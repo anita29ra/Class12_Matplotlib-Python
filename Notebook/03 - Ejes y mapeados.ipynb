{
 "cells": [
  {
   "cell_type": "markdown",
   "id": "74ca98fe",
   "metadata": {},
   "source": [
    "# Ejes y mapeados\n",
    "\n",
    "Como vimos los `DataFrames` automatizan gran parte del trabajo gracias a las etiquetas, pero también podemos configurar manualmente la información de los ejes en caso de trabajar con `listas` o `arrays`:"
   ]
  },
  {
   "cell_type": "code",
   "execution_count": 1,
   "id": "9abf55e0",
   "metadata": {},
   "outputs": [],
   "source": [
    "import numpy as np\n",
    "import matplotlib.pyplot as plt"
   ]
  },
  {
   "cell_type": "code",
   "execution_count": 2,
   "id": "5bc4da67",
   "metadata": {},
   "outputs": [
    {
     "data": {
      "text/plain": [
       "[<matplotlib.lines.Line2D at 0x2ad4d1c9d60>]"
      ]
     },
     "execution_count": 2,
     "metadata": {},
     "output_type": "execute_result"
    },
    {
     "data": {
      "image/png": "[encoded data removed]",
      "text/plain": [
       "<Figure size 640x480 with 1 Axes>"
      ]
     },
     "metadata": {},
     "output_type": "display_data"
    }
   ],
   "source": [
    "# Generamos un array con ahorros de prueba\n",
    "ahorros = np.random.randint(100, size=6)\n",
    "\n",
    "# Gráficamos sin etiquetas\n",
    "plt.plot(ahorros)"
   ]
  },
  {
   "cell_type": "markdown",
   "id": "f0b1dffa",
   "metadata": {},
   "source": [
    "## Mapeado de texto en los ejes\n",
    "\n",
    "Para añadir información textual a un eje necesitamos mapear datos en rangos de índices utilizando los métodos `xticks` e `yticks`:"
   ]
  },
  {
   "cell_type": "code",
   "execution_count": null,
   "id": "aa16a6ab",
   "metadata": {},
   "outputs": [],
   "source": [
    "# Definimos una lista con los meses para el eje horizontal\n",
    "meses = ['Enero','Febrero','Abril','Marzo','Mayo','Junio']"
   ]
  },
  {
   "cell_type": "code",
   "execution_count": null,
   "id": "422cc246",
   "metadata": {},
   "outputs": [],
   "source": [
    "# Mapeamos un rango de índices para el eje horizontal\n",
    "plt.plot(ahorros)\n",
    "plt.xticks([0,1,2,3,4,5], meses)"
   ]
  },
  {
   "cell_type": "markdown",
   "id": "9697395f",
   "metadata": {},
   "source": [
    "Por cierto, para mostrar en el output de una celda solo el gráfico podemos utilizar específicamente su método `show`:"
   ]
  },
  {
   "cell_type": "code",
   "execution_count": null,
   "id": "ba568ed2",
   "metadata": {},
   "outputs": [],
   "source": [
    "ahorros = np.random.randint(100, size=8)\n",
    "# Definimos una lista con los meses para el eje horizontal\n",
    "meses = ['Enero','Febrero','Marzo','Abril','Mayo','Junio','Julio', 'Agosto']\n",
    "plt.plot(ahorros)\n",
    "print(range(len(meses)))\n",
    "plt.xticks(range(len(meses)), meses)\n",
    "\n",
    "plt.show()"
   ]
  },
  {
   "cell_type": "markdown",
   "id": "8afe3919",
   "metadata": {},
   "source": [
    "Debemos tener en cuenta que aunque tengamos texto mapeado, el verdadero valor del eje X es en realidad un rango incremental de números manejado automáticamente."
   ]
  },
  {
   "cell_type": "markdown",
   "id": "2c54f892",
   "metadata": {},
   "source": [
    "## Ejes X e Y\n",
    "\n",
    "Al utilizar un único vector en el método `plot` éste lo toma como los valores del eje Y y genera el X automáticamente a partir de su longitud:"
   ]
  },
  {
   "cell_type": "code",
   "execution_count": null,
   "id": "08d227f7",
   "metadata": {},
   "outputs": [],
   "source": [
    "y = np.random.randint(20, size=[6])\n",
    "print(y)\n",
    "plt.plot(y)\n",
    "plt.show()"
   ]
  },
  {
   "cell_type": "markdown",
   "id": "b669eb7c",
   "metadata": {},
   "source": [
    "Es posible modificar los valores del eje X si los pasamos en otro vector o lista como primer parámetro (siempre que el número de elementos concuerde):"
   ]
  },
  {
   "cell_type": "code",
   "execution_count": null,
   "id": "34a60124",
   "metadata": {},
   "outputs": [],
   "source": [
    "x = [\"A\", \"B\", \"C\", \"D\", \"E\", \"F\"]\n",
    "# Gráfica X y Y\n",
    "plt.plot(x,y)"
   ]
  },
  {
   "cell_type": "markdown",
   "id": "81c53249",
   "metadata": {},
   "source": [
    "## Gráficos invertidos\n",
    "\n",
    "Algo interesante es que cambiando el orden de los ejes podemos generar un gráfico invertido:"
   ]
  },
  {
   "cell_type": "code",
   "execution_count": null,
   "id": "79614143",
   "metadata": {},
   "outputs": [],
   "source": [
    "# Gráfica \n",
    "plt.plot(y,x)\n",
    "plt.show()"
   ]
  },
  {
   "cell_type": "markdown",
   "id": "0a18306f",
   "metadata": {},
   "source": [
    "## Ejemplo curioso\n",
    "\n",
    "¿Qué ocurriría si los valores en X también fueran aleatorios?"
   ]
  },
  {
   "cell_type": "code",
   "execution_count": null,
   "id": "8cd282f3",
   "metadata": {},
   "outputs": [],
   "source": [
    "x = np.random.randint(20,size=5)\n",
    "y = np.random.randint(20,size=5)\n",
    "\n",
    "plt.plot(x,y)\n",
    "plt.show()"
   ]
  },
  {
   "cell_type": "markdown",
   "id": "ea9f4ed8",
   "metadata": {},
   "source": [
    "Como vemos se genera un gráfico muy extraño.\n",
    "\n",
    "Un gráfico lineal se rige en función del tiempo, eso implica que uno de los ejes es incremental. Al generar valores aleatorios hemos \"roto\" esa lógica y el resultado es un gráfico donde las líneas se cruzan por todas partes."
   ]
  }
 ],
 "metadata": {
  "kernelspec": {
   "display_name": "Python 3",
   "language": "python",
   "name": "python3"
  },
  "language_info": {
   "codemirror_mode": {
    "name": "ipython",
    "version": 3
   },
   "file_extension": ".py",
   "mimetype": "text/x-python",
   "name": "python",
   "nbconvert_exporter": "python",
   "pygments_lexer": "ipython3",
   "version": "3.12.7"
  }
 },
 "nbformat": 4,
 "nbformat_minor": 5
}
